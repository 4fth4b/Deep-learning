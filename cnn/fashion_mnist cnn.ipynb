{
 "cells": [
  {
   "cell_type": "code",
   "execution_count": 2,
   "id": "c6426b8b-bc12-4a0c-9152-c9212d43c5a9",
   "metadata": {},
   "outputs": [],
   "source": [
    "import tensorflow as tf\n",
    "from tensorflow.keras.layers import Flatten,Dense,MaxPool2D,Conv2D\n",
    "from tensorflow.keras.optimizers import Adam\n",
    "from tensorflow.keras.losses import SparseCategoricalCrossentropy\n",
    "from tensorflow.keras import Sequential\n",
    "import keras\n",
    "import pandas as pd\n",
    "import numpy as np\n",
    "import matplotlib.pyplot as plt\n",
    "from tensorflow.keras.datasets import fashion_mnist"
   ]
  },
  {
   "cell_type": "code",
   "execution_count": 3,
   "id": "2ed6ec15-b989-451d-a642-1075adf64551",
   "metadata": {},
   "outputs": [],
   "source": [
    "(xtrain,ytrain),(xtest,ytest)=keras.datasets.fashion_mnist.load_data()"
   ]
  },
  {
   "cell_type": "code",
   "execution_count": 6,
   "id": "d45b3039-fab7-4d0e-a6e8-033b0e4718b1",
   "metadata": {},
   "outputs": [
    {
     "data": {
      "text/plain": [
       "(28, 28)"
      ]
     },
     "execution_count": 6,
     "metadata": {},
     "output_type": "execute_result"
    }
   ],
   "source": [
    "xtrain[0].shape"
   ]
  },
  {
   "cell_type": "code",
   "execution_count": 13,
   "id": "f8b883c7-9c9e-421f-ade8-8bc62c8af506",
   "metadata": {},
   "outputs": [],
   "source": [
    "model=Sequential()\n",
    "model.add(Conv2D(filters=50,kernel_size=(3,3),input_shape=(28,28,1),activation='relu',padding='valid',strides=1,))\n",
    "model.add((MaxPool2D(pool_size=(2,2))))\n",
    "model.add(Conv2D(filters=100,kernel_size=(3,3),activation='relu',padding='valid',strides=(1,1)))\n",
    "model.add(Conv2D(filters=100,kernel_size=(3,3),activation='relu',padding='valid',strides=(1,1)))\n",
    "model.add((MaxPool2D(pool_size=(2,2))))\n",
    "model.add(Flatten())\n",
    "model.add(Dense(100,activation='relu'))\n",
    "model.add(Dense(80,activation='relu'))\n",
    "model.add(Dense(10,activation='softmax'))"
   ]
  },
  {
   "cell_type": "code",
   "execution_count": 14,
   "id": "2878ecbf-e817-45ac-80af-9d99f45c489a",
   "metadata": {},
   "outputs": [
    {
     "name": "stdout",
     "output_type": "stream",
     "text": [
      "Model: \"sequential\"\n",
      "_________________________________________________________________\n",
      " Layer (type)                Output Shape              Param #   \n",
      "=================================================================\n",
      " conv2d (Conv2D)             (None, 26, 26, 50)        500       \n",
      "                                                                 \n",
      " max_pooling2d (MaxPooling2D  (None, 13, 13, 50)       0         \n",
      " )                                                               \n",
      "                                                                 \n",
      " conv2d_1 (Conv2D)           (None, 11, 11, 100)       45100     \n",
      "                                                                 \n",
      " conv2d_2 (Conv2D)           (None, 9, 9, 100)         90100     \n",
      "                                                                 \n",
      " max_pooling2d_1 (MaxPooling  (None, 4, 4, 100)        0         \n",
      " 2D)                                                             \n",
      "                                                                 \n",
      " flatten (Flatten)           (None, 1600)              0         \n",
      "                                                                 \n",
      " dense (Dense)               (None, 100)               160100    \n",
      "                                                                 \n",
      " dense_1 (Dense)             (None, 80)                8080      \n",
      "                                                                 \n",
      " dense_2 (Dense)             (None, 10)                810       \n",
      "                                                                 \n",
      "=================================================================\n",
      "Total params: 304,690\n",
      "Trainable params: 304,690\n",
      "Non-trainable params: 0\n",
      "_________________________________________________________________\n"
     ]
    }
   ],
   "source": [
    "model.summary()"
   ]
  },
  {
   "cell_type": "code",
   "execution_count": 15,
   "id": "45e7819c-ee53-47e9-9bf5-94678b256034",
   "metadata": {},
   "outputs": [],
   "source": [
    "model.compile(optimizer=Adam(),loss=SparseCategoricalCrossentropy(),metrics=['accuracy'])"
   ]
  },
  {
   "cell_type": "code",
   "execution_count": 16,
   "id": "f5a82c8a-46b7-42c1-b195-2120fbec3474",
   "metadata": {},
   "outputs": [
    {
     "name": "stdout",
     "output_type": "stream",
     "text": [
      "Epoch 1/20\n",
      "120/120 [==============================] - 32s 252ms/step - loss: 1.1761 - accuracy: 0.7146 - val_loss: 0.4748 - val_accuracy: 0.8271\n",
      "Epoch 2/20\n",
      "120/120 [==============================] - 30s 251ms/step - loss: 0.3935 - accuracy: 0.8582 - val_loss: 0.3683 - val_accuracy: 0.8694\n",
      "Epoch 3/20\n",
      "120/120 [==============================] - 29s 239ms/step - loss: 0.3285 - accuracy: 0.8819 - val_loss: 0.3492 - val_accuracy: 0.8747\n",
      "Epoch 4/20\n",
      "120/120 [==============================] - 28s 232ms/step - loss: 0.2938 - accuracy: 0.8938 - val_loss: 0.3373 - val_accuracy: 0.8787\n",
      "Epoch 5/20\n",
      "120/120 [==============================] - 28s 235ms/step - loss: 0.2649 - accuracy: 0.9044 - val_loss: 0.3258 - val_accuracy: 0.8843\n",
      "Epoch 6/20\n",
      "120/120 [==============================] - 28s 236ms/step - loss: 0.2425 - accuracy: 0.9114 - val_loss: 0.3059 - val_accuracy: 0.8904\n",
      "Epoch 7/20\n",
      "120/120 [==============================] - 28s 234ms/step - loss: 0.2234 - accuracy: 0.9187 - val_loss: 0.3180 - val_accuracy: 0.8877\n",
      "Epoch 8/20\n",
      "120/120 [==============================] - 28s 233ms/step - loss: 0.2076 - accuracy: 0.9248 - val_loss: 0.3363 - val_accuracy: 0.8835\n",
      "Epoch 9/20\n",
      "120/120 [==============================] - 28s 234ms/step - loss: 0.1928 - accuracy: 0.9287 - val_loss: 0.2891 - val_accuracy: 0.9004\n",
      "Epoch 10/20\n",
      "120/120 [==============================] - 28s 235ms/step - loss: 0.1821 - accuracy: 0.9331 - val_loss: 0.3024 - val_accuracy: 0.8965\n",
      "Epoch 11/20\n",
      "120/120 [==============================] - 28s 236ms/step - loss: 0.1727 - accuracy: 0.9366 - val_loss: 0.3008 - val_accuracy: 0.8982\n",
      "Epoch 12/20\n",
      "120/120 [==============================] - 28s 234ms/step - loss: 0.1610 - accuracy: 0.9401 - val_loss: 0.2935 - val_accuracy: 0.8988\n",
      "Epoch 13/20\n",
      "120/120 [==============================] - 30s 248ms/step - loss: 0.1449 - accuracy: 0.9464 - val_loss: 0.3075 - val_accuracy: 0.8992\n",
      "Epoch 14/20\n",
      "120/120 [==============================] - 34s 281ms/step - loss: 0.1390 - accuracy: 0.9483 - val_loss: 0.3448 - val_accuracy: 0.8893\n",
      "Epoch 15/20\n",
      "120/120 [==============================] - 30s 246ms/step - loss: 0.1267 - accuracy: 0.9536 - val_loss: 0.3140 - val_accuracy: 0.9048\n",
      "Epoch 16/20\n",
      "120/120 [==============================] - 29s 241ms/step - loss: 0.1177 - accuracy: 0.9563 - val_loss: 0.3568 - val_accuracy: 0.8906\n",
      "Epoch 17/20\n",
      "120/120 [==============================] - 29s 241ms/step - loss: 0.1088 - accuracy: 0.9593 - val_loss: 0.3344 - val_accuracy: 0.9051\n",
      "Epoch 18/20\n",
      "120/120 [==============================] - 29s 238ms/step - loss: 0.1047 - accuracy: 0.9614 - val_loss: 0.3717 - val_accuracy: 0.8974\n",
      "Epoch 19/20\n",
      "120/120 [==============================] - 28s 233ms/step - loss: 0.0944 - accuracy: 0.9650 - val_loss: 0.3520 - val_accuracy: 0.8999\n",
      "Epoch 20/20\n",
      "120/120 [==============================] - 28s 234ms/step - loss: 0.0968 - accuracy: 0.9630 - val_loss: 0.3830 - val_accuracy: 0.8986\n"
     ]
    }
   ],
   "source": [
    "hist=model.fit(xtrain,ytrain,epochs=20,validation_data=(xtest,ytest),batch_size=500)"
   ]
  },
  {
   "cell_type": "code",
   "execution_count": 17,
   "id": "8633df31-e0b5-4dbc-b07c-9f6e83e8acd2",
   "metadata": {},
   "outputs": [],
   "source": [
    "his=hist.history"
   ]
  },
  {
   "cell_type": "code",
   "execution_count": 18,
   "id": "624d55dc-27eb-432c-bd3b-d2045f15ff34",
   "metadata": {},
   "outputs": [
    {
     "data": {
      "text/plain": [
       "{'loss': [1.1760624647140503,\n",
       "  0.3934772312641144,\n",
       "  0.32850396633148193,\n",
       "  0.2937715947628021,\n",
       "  0.264902263879776,\n",
       "  0.24250668287277222,\n",
       "  0.22336825728416443,\n",
       "  0.20759764313697815,\n",
       "  0.19284090399742126,\n",
       "  0.18208223581314087,\n",
       "  0.17271152138710022,\n",
       "  0.16100074350833893,\n",
       "  0.14490875601768494,\n",
       "  0.13902878761291504,\n",
       "  0.12672293186187744,\n",
       "  0.1177389845252037,\n",
       "  0.10880130529403687,\n",
       "  0.10470102727413177,\n",
       "  0.09438923001289368,\n",
       "  0.09684498608112335],\n",
       " 'accuracy': [0.7146000266075134,\n",
       "  0.8581500053405762,\n",
       "  0.881933331489563,\n",
       "  0.893750011920929,\n",
       "  0.904366672039032,\n",
       "  0.9114166498184204,\n",
       "  0.918666660785675,\n",
       "  0.9247833490371704,\n",
       "  0.9286999702453613,\n",
       "  0.9330999851226807,\n",
       "  0.9365666508674622,\n",
       "  0.9400833249092102,\n",
       "  0.9463666677474976,\n",
       "  0.9483333230018616,\n",
       "  0.9536333084106445,\n",
       "  0.9562666416168213,\n",
       "  0.9593499898910522,\n",
       "  0.9613666534423828,\n",
       "  0.9649666547775269,\n",
       "  0.9630333185195923],\n",
       " 'val_loss': [0.47484663128852844,\n",
       "  0.3683285415172577,\n",
       "  0.34918519854545593,\n",
       "  0.33731207251548767,\n",
       "  0.32580500841140747,\n",
       "  0.3059087097644806,\n",
       "  0.31798985600471497,\n",
       "  0.33634018898010254,\n",
       "  0.2890878915786743,\n",
       "  0.3023940324783325,\n",
       "  0.3007959723472595,\n",
       "  0.2934507131576538,\n",
       "  0.3075099289417267,\n",
       "  0.3447590172290802,\n",
       "  0.31402304768562317,\n",
       "  0.35682225227355957,\n",
       "  0.3343821167945862,\n",
       "  0.37170830368995667,\n",
       "  0.3520165979862213,\n",
       "  0.38301989436149597],\n",
       " 'val_accuracy': [0.8270999789237976,\n",
       "  0.8694000244140625,\n",
       "  0.8747000098228455,\n",
       "  0.8787000179290771,\n",
       "  0.8842999935150146,\n",
       "  0.8903999924659729,\n",
       "  0.8877000212669373,\n",
       "  0.8834999799728394,\n",
       "  0.9003999829292297,\n",
       "  0.8964999914169312,\n",
       "  0.8981999754905701,\n",
       "  0.8988000154495239,\n",
       "  0.8992000222206116,\n",
       "  0.8892999887466431,\n",
       "  0.9047999978065491,\n",
       "  0.8906000256538391,\n",
       "  0.9050999879837036,\n",
       "  0.8974000215530396,\n",
       "  0.8999000191688538,\n",
       "  0.8985999822616577]}"
      ]
     },
     "execution_count": 18,
     "metadata": {},
     "output_type": "execute_result"
    }
   ],
   "source": [
    "his"
   ]
  },
  {
   "cell_type": "code",
   "execution_count": 19,
   "id": "d8b90821-2e69-4aaf-b79b-ff3f633ac84a",
   "metadata": {},
   "outputs": [
    {
     "data": {
      "text/plain": [
       "<matplotlib.legend.Legend at 0x1f03aa71b20>"
      ]
     },
     "execution_count": 19,
     "metadata": {},
     "output_type": "execute_result"
    },
    {
     "data": {
      "image/png": "[encoded data removed]",
      "text/plain": [
       "<Figure size 432x288 with 1 Axes>"
      ]
     },
     "metadata": {
      "needs_background": "light"
     },
     "output_type": "display_data"
    }
   ],
   "source": [
    "plt.plot(his['accuracy'],label='accuracy')\n",
    "plt.plot(his['val_accuracy'],label='validation accuracy')\n",
    "plt.xlabel('epochs')\n",
    "plt.title('learning curve')\n",
    "plt.ylabel('accuracy_value')\n",
    "plt.legend()"
   ]
  },
  {
   "cell_type": "code",
   "execution_count": 20,
   "id": "635da80e-1936-4233-a4a5-3fca05cd2798",
   "metadata": {},
   "outputs": [
    {
     "data": {
      "text/plain": [
       "<matplotlib.legend.Legend at 0x1f02f9252e0>"
      ]
     },
     "execution_count": 20,
     "metadata": {},
     "output_type": "execute_result"
    },
    {
     "data": {
      "image/png": "[encoded data removed]",
      "text/plain": [
       "<Figure size 432x288 with 1 Axes>"
      ]
     },
     "metadata": {
      "needs_background": "light"
     },
     "output_type": "display_data"
    }
   ],
   "source": [
    "plt.plot(his['loss'],label='loss')\n",
    "plt.plot(his['val_loss'],label='validation loss')\n",
    "plt.xlabel('epochs')\n",
    "plt.ylabel('loss value')\n",
    "plt.title('learning curve')\n",
    "plt.legend()"
   ]
  },
  {
   "cell_type": "code",
   "execution_count": 22,
   "id": "48ebeec5-2f9d-4e76-9e8a-bb36d7d6ccb0",
   "metadata": {},
   "outputs": [
    {
     "name": "stdout",
     "output_type": "stream",
     "text": [
      "313/313 [==============================] - 4s 12ms/step\n"
     ]
    }
   ],
   "source": [
    "pred=model.predict(xtest)"
   ]
  },
  {
   "cell_type": "code",
   "execution_count": 23,
   "id": "97e64880-e247-42e7-abaa-28dc3db10fe6",
   "metadata": {},
   "outputs": [
    {
     "data": {
      "text/plain": [
       "1"
      ]
     },
     "execution_count": 23,
     "metadata": {},
     "output_type": "execute_result"
    }
   ],
   "source": [
    "np.argmax(pred[5])"
   ]
  },
  {
   "cell_type": "code",
   "execution_count": 24,
   "id": "9554cf35-057c-4dbf-99ba-325941f0d20a",
   "metadata": {},
   "outputs": [
    {
     "data": {
      "text/plain": [
       "1"
      ]
     },
     "execution_count": 24,
     "metadata": {},
     "output_type": "execute_result"
    }
   ],
   "source": [
    "ytest[5]"
   ]
  },
  {
   "cell_type": "code",
   "execution_count": 28,
   "id": "34519966-cd17-4be5-a810-4473dbbcf8b4",
   "metadata": {},
   "outputs": [],
   "source": [
    "l=[]\n",
    "for i in range(10,20):\n",
    "    l.append(np.argmax(pred[i]))"
   ]
  },
  {
   "cell_type": "code",
   "execution_count": 29,
   "id": "ef3f1dfe-2074-4bfa-8737-c7468f4fef12",
   "metadata": {},
   "outputs": [
    {
     "data": {
      "text/plain": [
       "[4, 5, 5, 3, 4, 1, 2, 4, 8, 0]"
      ]
     },
     "execution_count": 29,
     "metadata": {},
     "output_type": "execute_result"
    }
   ],
   "source": [
    "l"
   ]
  },
  {
   "cell_type": "code",
   "execution_count": 30,
   "id": "1c6ee893-9717-40c0-8806-c3ce75f3767e",
   "metadata": {},
   "outputs": [
    {
     "data": {
      "text/plain": [
       "array([4, 5, 7, 3, 4, 1, 2, 4, 8, 0], dtype=uint8)"
      ]
     },
     "execution_count": 30,
     "metadata": {},
     "output_type": "execute_result"
    }
   ],
   "source": [
    "ytest[10:20]"
   ]
  },
  {
   "cell_type": "code",
   "execution_count": 31,
   "id": "121ede4f-bb13-41c5-bda9-a25fd156bd07",
   "metadata": {},
   "outputs": [
    {
     "name": "stdout",
     "output_type": "stream",
     "text": [
      "313/313 [==============================] - 4s 11ms/step - loss: 0.3830 - accuracy: 0.8986\n"
     ]
    },
    {
     "data": {
      "text/plain": [
       "[0.3830198645591736, 0.8985999822616577]"
      ]
     },
     "execution_count": 31,
     "metadata": {},
     "output_type": "execute_result"
    }
   ],
   "source": [
    "model.evaluate(xtest,ytest)"
   ]
  },
  {
   "cell_type": "code",
   "execution_count": 32,
   "id": "f0ed35b9-dbc0-428d-9713-c9122ca2d6d3",
   "metadata": {},
   "outputs": [],
   "source": [
    "cls=['Top','Trouser','Pullover','Dress','Coat','Sandals','Shirt','Sneaker','Bag','Ankle boots']"
   ]
  },
  {
   "cell_type": "code",
   "execution_count": 33,
   "id": "0e9fe40c-89a3-44bb-a22d-e2160dbf4ca0",
   "metadata": {},
   "outputs": [
    {
     "data": {
      "text/plain": [
       "'Trouser'"
      ]
     },
     "execution_count": 33,
     "metadata": {},
     "output_type": "execute_result"
    }
   ],
   "source": [
    "a=np.argmax(pred[5])\n",
    "cls[a]"
   ]
  },
  {
   "cell_type": "code",
   "execution_count": 35,
   "id": "0fdb5fdc-e5e3-43a9-9f81-5faff8656fdd",
   "metadata": {},
   "outputs": [
    {
     "data": {
      "text/plain": [
       "<matplotlib.image.AxesImage at 0x1f03bc431f0>"
      ]
     },
     "execution_count": 35,
     "metadata": {},
     "output_type": "execute_result"
    },
    {
     "data": {
      "image/png": "[encoded data removed]",
      "text/plain": [
       "<Figure size 432x288 with 1 Axes>"
      ]
     },
     "metadata": {
      "needs_background": "light"
     },
     "output_type": "display_data"
    }
   ],
   "source": [
    "plt.imshow(xtest[5])"
   ]
  },
  {
   "cell_type": "code",
   "execution_count": null,
   "id": "c358bd77-df96-4b99-8990-741b0bd86c74",
   "metadata": {},
   "outputs": [],
   "source": []
  }
 ],
 "metadata": {
  "kernelspec": {
   "display_name": "Python 3 (ipykernel)",
   "language": "python",
   "name": "python3"
  },
  "language_info": {
   "codemirror_mode": {
    "name": "ipython",
    "version": 3
   },
   "file_extension": ".py",
   "mimetype": "text/x-python",
   "name": "python",
   "nbconvert_exporter": "python",
   "pygments_lexer": "ipython3",
   "version": "3.9.12"
  }
 },
 "nbformat": 4,
 "nbformat_minor": 5
}
