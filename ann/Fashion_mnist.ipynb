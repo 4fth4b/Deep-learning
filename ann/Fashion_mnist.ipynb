{
 "cells": [
  {
   "cell_type": "code",
   "execution_count": 1,
   "id": "c16ee74b-772c-402d-b560-e2493485e615",
   "metadata": {},
   "outputs": [],
   "source": [
    "import tensorflow as tf\n",
    "from tensorflow.keras.layers import Flatten,Dense\n",
    "from tensorflow.keras.optimizers import Adam\n",
    "from tensorflow.keras.losses import SparseCategoricalCrossentropy\n",
    "from tensorflow.keras import Sequential\n",
    "import keras\n",
    "import pandas as pd\n",
    "import numpy as np\n",
    "import matplotlib.pyplot as plt\n",
    "from tensorflow.keras.datasets import fashion_mnist"
   ]
  },
  {
   "cell_type": "code",
   "execution_count": 2,
   "id": "1fefe60e-1952-49b7-ad69-2a2f64a151b9",
   "metadata": {},
   "outputs": [],
   "source": [
    "(x_train,y_train),(x_test,y_test)=keras.datasets.fashion_mnist.load_data()"
   ]
  },
  {
   "cell_type": "code",
   "execution_count": 3,
   "id": "39825a15-473a-4a6e-bd1c-48b57c2032ec",
   "metadata": {},
   "outputs": [
    {
     "data": {
      "text/plain": [
       "array([9, 2, 1, ..., 8, 1, 5], dtype=uint8)"
      ]
     },
     "execution_count": 3,
     "metadata": {},
     "output_type": "execute_result"
    }
   ],
   "source": [
    "y_test"
   ]
  },
  {
   "cell_type": "code",
   "execution_count": 4,
   "id": "be42c26c-7a14-4c48-9d17-547ddc114155",
   "metadata": {},
   "outputs": [
    {
     "data": {
      "text/plain": [
       "array([[[0, 0, 0, ..., 0, 0, 0],\n",
       "        [0, 0, 0, ..., 0, 0, 0],\n",
       "        [0, 0, 0, ..., 0, 0, 0],\n",
       "        ...,\n",
       "        [0, 0, 0, ..., 0, 0, 0],\n",
       "        [0, 0, 0, ..., 0, 0, 0],\n",
       "        [0, 0, 0, ..., 0, 0, 0]],\n",
       "\n",
       "       [[0, 0, 0, ..., 0, 0, 0],\n",
       "        [0, 0, 0, ..., 0, 0, 0],\n",
       "        [0, 0, 0, ..., 0, 0, 0],\n",
       "        ...,\n",
       "        [0, 0, 0, ..., 0, 0, 0],\n",
       "        [0, 0, 0, ..., 0, 0, 0],\n",
       "        [0, 0, 0, ..., 0, 0, 0]],\n",
       "\n",
       "       [[0, 0, 0, ..., 0, 0, 0],\n",
       "        [0, 0, 0, ..., 0, 0, 0],\n",
       "        [0, 0, 0, ..., 0, 0, 0],\n",
       "        ...,\n",
       "        [0, 0, 0, ..., 0, 0, 0],\n",
       "        [0, 0, 0, ..., 0, 0, 0],\n",
       "        [0, 0, 0, ..., 0, 0, 0]],\n",
       "\n",
       "       ...,\n",
       "\n",
       "       [[0, 0, 0, ..., 0, 0, 0],\n",
       "        [0, 0, 0, ..., 0, 0, 0],\n",
       "        [0, 0, 0, ..., 0, 0, 0],\n",
       "        ...,\n",
       "        [0, 0, 0, ..., 0, 0, 0],\n",
       "        [0, 0, 0, ..., 0, 0, 0],\n",
       "        [0, 0, 0, ..., 0, 0, 0]],\n",
       "\n",
       "       [[0, 0, 0, ..., 0, 0, 0],\n",
       "        [0, 0, 0, ..., 0, 0, 0],\n",
       "        [0, 0, 0, ..., 0, 0, 0],\n",
       "        ...,\n",
       "        [0, 0, 0, ..., 0, 0, 0],\n",
       "        [0, 0, 0, ..., 0, 0, 0],\n",
       "        [0, 0, 0, ..., 0, 0, 0]],\n",
       "\n",
       "       [[0, 0, 0, ..., 0, 0, 0],\n",
       "        [0, 0, 0, ..., 0, 0, 0],\n",
       "        [0, 0, 0, ..., 0, 0, 0],\n",
       "        ...,\n",
       "        [0, 0, 0, ..., 0, 0, 0],\n",
       "        [0, 0, 0, ..., 0, 0, 0],\n",
       "        [0, 0, 0, ..., 0, 0, 0]]], dtype=uint8)"
      ]
     },
     "execution_count": 4,
     "metadata": {},
     "output_type": "execute_result"
    }
   ],
   "source": [
    "x_train"
   ]
  },
  {
   "cell_type": "code",
   "execution_count": 5,
   "id": "52714f91-983b-48b5-b027-b96ab2efb5e7",
   "metadata": {},
   "outputs": [],
   "source": [
    "model=Sequential()\n",
    "model.add(Flatten(input_shape=(28,28)))\n",
    "model.add(Dense(120,activation='relu'))\n",
    "model.add(Dense(90,activation='relu'))\n",
    "model.add(Dense(10,activation='softmax'))"
   ]
  },
  {
   "cell_type": "code",
   "execution_count": 6,
   "id": "b93f78f4-d6e6-4d77-acd4-89d0c5ff30ac",
   "metadata": {},
   "outputs": [
    {
     "name": "stdout",
     "output_type": "stream",
     "text": [
      "Model: \"sequential\"\n",
      "_________________________________________________________________\n",
      " Layer (type)                Output Shape              Param #   \n",
      "=================================================================\n",
      " flatten (Flatten)           (None, 784)               0         \n",
      "                                                                 \n",
      " dense (Dense)               (None, 120)               94200     \n",
      "                                                                 \n",
      " dense_1 (Dense)             (None, 90)                10890     \n",
      "                                                                 \n",
      " dense_2 (Dense)             (None, 10)                910       \n",
      "                                                                 \n",
      "=================================================================\n",
      "Total params: 106,000\n",
      "Trainable params: 106,000\n",
      "Non-trainable params: 0\n",
      "_________________________________________________________________\n"
     ]
    }
   ],
   "source": [
    "model.summary()"
   ]
  },
  {
   "cell_type": "code",
   "execution_count": 7,
   "id": "cd9a55b4-8ecf-4e41-8a01-3058e69c2965",
   "metadata": {},
   "outputs": [],
   "source": [
    "model.compile(optimizer=Adam(),loss=SparseCategoricalCrossentropy(),metrics=['accuracy'])"
   ]
  },
  {
   "cell_type": "code",
   "execution_count": 8,
   "id": "d35e8d34-439d-4bb0-961a-0f12f902d05d",
   "metadata": {},
   "outputs": [
    {
     "name": "stdout",
     "output_type": "stream",
     "text": [
      "Epoch 1/15\n",
      "120/120 [==============================] - 2s 10ms/step - loss: 9.3760 - accuracy: 0.6951 - val_loss: 2.5538 - val_accuracy: 0.7398\n",
      "Epoch 2/15\n",
      "120/120 [==============================] - 1s 6ms/step - loss: 1.7842 - accuracy: 0.7802 - val_loss: 1.5654 - val_accuracy: 0.7683\n",
      "Epoch 3/15\n",
      "120/120 [==============================] - 1s 6ms/step - loss: 1.1697 - accuracy: 0.7979 - val_loss: 1.1475 - val_accuracy: 0.7754\n",
      "Epoch 4/15\n",
      "120/120 [==============================] - 1s 6ms/step - loss: 0.8589 - accuracy: 0.8101 - val_loss: 0.9359 - val_accuracy: 0.7941\n",
      "Epoch 5/15\n",
      "120/120 [==============================] - 1s 6ms/step - loss: 0.7022 - accuracy: 0.8195 - val_loss: 0.8332 - val_accuracy: 0.8063\n",
      "Epoch 6/15\n",
      "120/120 [==============================] - 1s 6ms/step - loss: 0.6105 - accuracy: 0.8280 - val_loss: 0.7474 - val_accuracy: 0.8122\n",
      "Epoch 7/15\n",
      "120/120 [==============================] - 1s 7ms/step - loss: 0.5314 - accuracy: 0.8375 - val_loss: 0.6892 - val_accuracy: 0.8190\n",
      "Epoch 8/15\n",
      "120/120 [==============================] - 1s 7ms/step - loss: 0.4887 - accuracy: 0.8410 - val_loss: 0.6570 - val_accuracy: 0.8195\n",
      "Epoch 9/15\n",
      "120/120 [==============================] - 1s 6ms/step - loss: 0.4453 - accuracy: 0.8531 - val_loss: 0.6586 - val_accuracy: 0.8153\n",
      "Epoch 10/15\n",
      "120/120 [==============================] - 1s 6ms/step - loss: 0.4172 - accuracy: 0.8592 - val_loss: 0.6020 - val_accuracy: 0.8320\n",
      "Epoch 11/15\n",
      "120/120 [==============================] - 1s 6ms/step - loss: 0.3988 - accuracy: 0.8601 - val_loss: 0.5843 - val_accuracy: 0.8329\n",
      "Epoch 12/15\n",
      "120/120 [==============================] - 1s 6ms/step - loss: 0.3863 - accuracy: 0.8623 - val_loss: 0.6245 - val_accuracy: 0.8224\n",
      "Epoch 13/15\n",
      "120/120 [==============================] - 1s 6ms/step - loss: 0.3744 - accuracy: 0.8675 - val_loss: 0.5699 - val_accuracy: 0.8358\n",
      "Epoch 14/15\n",
      "120/120 [==============================] - 1s 6ms/step - loss: 0.3604 - accuracy: 0.8716 - val_loss: 0.5632 - val_accuracy: 0.8328\n",
      "Epoch 15/15\n",
      "120/120 [==============================] - 1s 5ms/step - loss: 0.3592 - accuracy: 0.8702 - val_loss: 0.5798 - val_accuracy: 0.8300\n"
     ]
    }
   ],
   "source": [
    "hist=model.fit(x_train,y_train,epochs=15,validation_data=(x_test,y_test),batch_size=500)"
   ]
  },
  {
   "cell_type": "code",
   "execution_count": 9,
   "id": "b6a6e456-438f-4e5e-b80f-619d1fa0fd83",
   "metadata": {},
   "outputs": [],
   "source": [
    "his=hist.history"
   ]
  },
  {
   "cell_type": "code",
   "execution_count": 10,
   "id": "2f16b988-87f9-4f14-bbaf-39f16f83914f",
   "metadata": {},
   "outputs": [
    {
     "data": {
      "text/plain": [
       "{'loss': [9.376001358032227,\n",
       "  1.7841984033584595,\n",
       "  1.1696642637252808,\n",
       "  0.8588672280311584,\n",
       "  0.7021558880805969,\n",
       "  0.6105393171310425,\n",
       "  0.5313680768013,\n",
       "  0.48870041966438293,\n",
       "  0.4453263282775879,\n",
       "  0.41723203659057617,\n",
       "  0.39881572127342224,\n",
       "  0.3863309621810913,\n",
       "  0.3743722438812256,\n",
       "  0.3604494333267212,\n",
       "  0.35916584730148315],\n",
       " 'accuracy': [0.6951333284378052,\n",
       "  0.7802000045776367,\n",
       "  0.7978666424751282,\n",
       "  0.8101333379745483,\n",
       "  0.8194500207901001,\n",
       "  0.8280333280563354,\n",
       "  0.8374500274658203,\n",
       "  0.8410000205039978,\n",
       "  0.8530666828155518,\n",
       "  0.8591833114624023,\n",
       "  0.8600999712944031,\n",
       "  0.8623499870300293,\n",
       "  0.8674833178520203,\n",
       "  0.8716166615486145,\n",
       "  0.8702499866485596],\n",
       " 'val_loss': [2.5538151264190674,\n",
       "  1.565442442893982,\n",
       "  1.1474710702896118,\n",
       "  0.9359195232391357,\n",
       "  0.8331845998764038,\n",
       "  0.7473852038383484,\n",
       "  0.6892135739326477,\n",
       "  0.6570025086402893,\n",
       "  0.658610999584198,\n",
       "  0.6020340323448181,\n",
       "  0.5843337178230286,\n",
       "  0.6245261430740356,\n",
       "  0.5698570013046265,\n",
       "  0.5632198452949524,\n",
       "  0.5798295736312866],\n",
       " 'val_accuracy': [0.739799976348877,\n",
       "  0.7682999968528748,\n",
       "  0.7753999829292297,\n",
       "  0.7940999865531921,\n",
       "  0.8062999844551086,\n",
       "  0.8122000098228455,\n",
       "  0.8190000057220459,\n",
       "  0.8195000290870667,\n",
       "  0.8152999877929688,\n",
       "  0.8320000171661377,\n",
       "  0.8328999876976013,\n",
       "  0.8223999738693237,\n",
       "  0.8357999920845032,\n",
       "  0.8327999711036682,\n",
       "  0.8299999833106995]}"
      ]
     },
     "execution_count": 10,
     "metadata": {},
     "output_type": "execute_result"
    }
   ],
   "source": [
    "his"
   ]
  },
  {
   "cell_type": "code",
   "execution_count": 11,
   "id": "7b140698-adf8-4134-8b1a-3c54a5de6ff1",
   "metadata": {},
   "outputs": [
    {
     "data": {
      "text/plain": [
       "<matplotlib.legend.Legend at 0x1b1177acdf0>"
      ]
     },
     "execution_count": 11,
     "metadata": {},
     "output_type": "execute_result"
    },
    {
     "data": {
      "image/png": "[encoded data removed]",
      "text/plain": [
       "<Figure size 432x288 with 1 Axes>"
      ]
     },
     "metadata": {
      "needs_background": "light"
     },
     "output_type": "display_data"
    }
   ],
   "source": [
    "plt.plot(his['accuracy'],label='accuracy')\n",
    "plt.plot(his['val_accuracy'],label='validation accuracy')\n",
    "plt.xlabel('epochs')\n",
    "plt.title('learning curve')\n",
    "plt.ylabel('accuracy_value')\n",
    "plt.legend()"
   ]
  },
  {
   "cell_type": "code",
   "execution_count": 12,
   "id": "6e20e817-5c0b-4fa4-94cc-bf74e9f2de1f",
   "metadata": {},
   "outputs": [
    {
     "data": {
      "text/plain": [
       "<matplotlib.legend.Legend at 0x1b117822d00>"
      ]
     },
     "execution_count": 12,
     "metadata": {},
     "output_type": "execute_result"
    },
    {
     "data": {
      "image/png": "[encoded data removed]",
      "text/plain": [
       "<Figure size 432x288 with 1 Axes>"
      ]
     },
     "metadata": {
      "needs_background": "light"
     },
     "output_type": "display_data"
    }
   ],
   "source": [
    "plt.plot(his['loss'],label='loss')\n",
    "plt.plot(his['val_loss'],label='validation loss')\n",
    "plt.xlabel('epochs')\n",
    "plt.ylabel('loss value')\n",
    "plt.title('learning curve')\n",
    "plt.legend()"
   ]
  },
  {
   "cell_type": "code",
   "execution_count": 16,
   "id": "2aa3762c-9c1d-4441-beac-49cd693fb656",
   "metadata": {},
   "outputs": [
    {
     "name": "stdout",
     "output_type": "stream",
     "text": [
      "313/313 [==============================] - 0s 1ms/step\n"
     ]
    }
   ],
   "source": [
    "pred=model.predict(x_test)"
   ]
  },
  {
   "cell_type": "code",
   "execution_count": 18,
   "id": "fb1e953c-f589-429e-af75-5afc5ade7e53",
   "metadata": {},
   "outputs": [
    {
     "data": {
      "text/plain": [
       "1"
      ]
     },
     "execution_count": 18,
     "metadata": {},
     "output_type": "execute_result"
    }
   ],
   "source": [
    "np.argmax(pred[5])"
   ]
  },
  {
   "cell_type": "code",
   "execution_count": 28,
   "id": "c2c06c72-9e21-4b24-a6bd-bb575f10dbe5",
   "metadata": {},
   "outputs": [
    {
     "data": {
      "text/plain": [
       "4"
      ]
     },
     "execution_count": 28,
     "metadata": {},
     "output_type": "execute_result"
    }
   ],
   "source": [
    "y_test[50]"
   ]
  },
  {
   "cell_type": "code",
   "execution_count": 23,
   "id": "07958316-e25f-434e-bf1c-c830a5ac5940",
   "metadata": {},
   "outputs": [],
   "source": [
    "l=[]\n",
    "for i in range(0,10):\n",
    "    l.append(np.argmax(pred[i]))"
   ]
  },
  {
   "cell_type": "code",
   "execution_count": 21,
   "id": "bf40acab-4bf9-405a-9412-a14a4fafd75a",
   "metadata": {},
   "outputs": [
    {
     "data": {
      "text/plain": [
       "[9, 2, 1, 1, 6, 1, 6, 6, 5, 7]"
      ]
     },
     "execution_count": 21,
     "metadata": {},
     "output_type": "execute_result"
    }
   ],
   "source": [
    "l"
   ]
  },
  {
   "cell_type": "code",
   "execution_count": 22,
   "id": "e67ae06f-3b4b-49c6-9944-a7d88665b1ec",
   "metadata": {},
   "outputs": [
    {
     "data": {
      "text/plain": [
       "array([9, 2, 1, 1, 6, 1, 4, 6, 5, 7], dtype=uint8)"
      ]
     },
     "execution_count": 22,
     "metadata": {},
     "output_type": "execute_result"
    }
   ],
   "source": [
    "y_test[:10]"
   ]
  },
  {
   "cell_type": "code",
   "execution_count": 26,
   "id": "57bee92d-6b45-4d71-a60e-1c42ec2196ca",
   "metadata": {},
   "outputs": [
    {
     "name": "stdout",
     "output_type": "stream",
     "text": [
      "313/313 [==============================] - 1s 1ms/step - loss: 0.5798 - accuracy: 0.8300\n"
     ]
    },
    {
     "data": {
      "text/plain": [
       "[0.5798295140266418, 0.8299999833106995]"
      ]
     },
     "execution_count": 26,
     "metadata": {},
     "output_type": "execute_result"
    }
   ],
   "source": [
    "model.evaluate(x_test,y_test)"
   ]
  },
  {
   "cell_type": "code",
   "execution_count": 27,
   "id": "ca4c0c03-e1f9-4581-8481-3ab64de65198",
   "metadata": {},
   "outputs": [],
   "source": [
    "cls=['Top','Trouser','Pullover','Dress','Coat','Sandals','Shirt','Sneaker','Bag','Ankle boots']"
   ]
  },
  {
   "cell_type": "code",
   "execution_count": 38,
   "id": "c105c488-fc9b-416d-98a1-8ff4bd2d48fb",
   "metadata": {},
   "outputs": [
    {
     "data": {
      "text/plain": [
       "'Trouser'"
      ]
     },
     "execution_count": 38,
     "metadata": {},
     "output_type": "execute_result"
    }
   ],
   "source": [
    "a=np.argmax(pred[2])\n",
    "cls[a]"
   ]
  },
  {
   "cell_type": "code",
   "execution_count": 39,
   "id": "f8cec34a-cb4a-43fa-b7fc-d05db318febc",
   "metadata": {},
   "outputs": [
    {
     "data": {
      "text/plain": [
       "<matplotlib.image.AxesImage at 0x1b1164a3fd0>"
      ]
     },
     "execution_count": 39,
     "metadata": {},
     "output_type": "execute_result"
    },
    {
     "data": {
      "image/png": "[encoded data removed]",
      "text/plain": [
       "<Figure size 432x288 with 1 Axes>"
      ]
     },
     "metadata": {
      "needs_background": "light"
     },
     "output_type": "display_data"
    }
   ],
   "source": [
    "plt.imshow(x_test[2])"
   ]
  },
  {
   "cell_type": "code",
   "execution_count": null,
   "id": "ba3a96a5-d579-421c-b24a-b68730c5dee1",
   "metadata": {},
   "outputs": [],
   "source": []
  }
 ],
 "metadata": {
  "kernelspec": {
   "display_name": "Python 3 (ipykernel)",
   "language": "python",
   "name": "python3"
  },
  "language_info": {
   "codemirror_mode": {
    "name": "ipython",
    "version": 3
   },
   "file_extension": ".py",
   "mimetype": "text/x-python",
   "name": "python",
   "nbconvert_exporter": "python",
   "pygments_lexer": "ipython3",
   "version": "3.9.12"
  }
 },
 "nbformat": 4,
 "nbformat_minor": 5
}
