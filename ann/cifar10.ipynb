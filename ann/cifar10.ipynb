{
 "cells": [
  {
   "cell_type": "code",
   "execution_count": 1,
   "id": "0806e8f4-e2af-4b0a-968a-8f65c70bcb62",
   "metadata": {},
   "outputs": [],
   "source": [
    "import keras\n",
    "import tensorflow as tf\n",
    "import pandas as pd\n",
    "import numpy as np\n",
    "import matplotlib.pyplot as plt\n",
    "import tensorflow.keras.optimizers\n",
    "from tensorflow.keras import Sequential\n",
    "from tensorflow.keras.layers import Flatten,Dense\n",
    "from tensorflow.keras.losses import SparseCategoricalCrossentropy"
   ]
  },
  {
   "cell_type": "code",
   "execution_count": 2,
   "id": "7a8f11f0-a025-477e-9550-a04e0d9b0a8f",
   "metadata": {},
   "outputs": [],
   "source": [
    "(xtrain,ytrain),(xtest,ytest)=keras.datasets.cifar10.load_data()"
   ]
  },
  {
   "cell_type": "code",
   "execution_count": 3,
   "id": "d732ba48-44d3-443c-a08a-d938310a9fdd",
   "metadata": {},
   "outputs": [],
   "source": [
    "xtrain=xtrain/255\n",
    "xtest=xtest/255"
   ]
  },
  {
   "cell_type": "code",
   "execution_count": 4,
   "id": "caa2ee91-b152-4fff-8a67-fede4846394d",
   "metadata": {},
   "outputs": [
    {
     "data": {
      "text/plain": [
       "array([[3],\n",
       "       [8],\n",
       "       [8],\n",
       "       ...,\n",
       "       [5],\n",
       "       [1],\n",
       "       [7]], dtype=uint8)"
      ]
     },
     "execution_count": 4,
     "metadata": {},
     "output_type": "execute_result"
    }
   ],
   "source": [
    "ytest"
   ]
  },
  {
   "cell_type": "code",
   "execution_count": 5,
   "id": "631db5f7-d46c-4ea6-a8b0-5a940875e45d",
   "metadata": {},
   "outputs": [
    {
     "data": {
      "text/plain": [
       "(32, 32, 3)"
      ]
     },
     "execution_count": 5,
     "metadata": {},
     "output_type": "execute_result"
    }
   ],
   "source": [
    "xtest[0].shape"
   ]
  },
  {
   "cell_type": "code",
   "execution_count": 6,
   "id": "3c1eb9c9-973d-48a9-b75c-23e924f7f844",
   "metadata": {},
   "outputs": [],
   "source": [
    "model=Sequential()\n",
    "model.add(Flatten(input_shape=(32,32,3)))\n",
    "model.add(Dense(130,activation='relu'))\n",
    "model.add(Dense(100,activation='relu'))\n",
    "model.add(Dense(150,activation='relu'))\n",
    "model.add(Dense(90,activation='relu'))\n",
    "model.add(Dense(100,activation='relu'))\n",
    "model.add(Dense(10,activation='softmax'))"
   ]
  },
  {
   "cell_type": "code",
   "execution_count": 7,
   "id": "321e5ad8-0906-42c0-bd97-0660c4cef094",
   "metadata": {},
   "outputs": [
    {
     "name": "stdout",
     "output_type": "stream",
     "text": [
      "Model: \"sequential\"\n",
      "_________________________________________________________________\n",
      " Layer (type)                Output Shape              Param #   \n",
      "=================================================================\n",
      " flatten (Flatten)           (None, 3072)              0         \n",
      "                                                                 \n",
      " dense (Dense)               (None, 130)               399490    \n",
      "                                                                 \n",
      " dense_1 (Dense)             (None, 100)               13100     \n",
      "                                                                 \n",
      " dense_2 (Dense)             (None, 150)               15150     \n",
      "                                                                 \n",
      " dense_3 (Dense)             (None, 90)                13590     \n",
      "                                                                 \n",
      " dense_4 (Dense)             (None, 100)               9100      \n",
      "                                                                 \n",
      " dense_5 (Dense)             (None, 10)                1010      \n",
      "                                                                 \n",
      "=================================================================\n",
      "Total params: 451,440\n",
      "Trainable params: 451,440\n",
      "Non-trainable params: 0\n",
      "_________________________________________________________________\n"
     ]
    }
   ],
   "source": [
    "model.summary()"
   ]
  },
  {
   "cell_type": "code",
   "execution_count": 8,
   "id": "97c97db0-bc6c-4d6c-b471-eae9983ec13f",
   "metadata": {},
   "outputs": [],
   "source": [
    "model.compile(optimizer='rmsprop',loss=SparseCategoricalCrossentropy(),metrics=['accuracy'])"
   ]
  },
  {
   "cell_type": "code",
   "execution_count": 9,
   "id": "be4f64d9-a6eb-47f4-b964-0190a295610d",
   "metadata": {},
   "outputs": [
    {
     "name": "stdout",
     "output_type": "stream",
     "text": [
      "Epoch 1/25\n",
      "84/84 [==============================] - 4s 23ms/step - loss: 2.1941 - accuracy: 0.1863 - val_loss: 2.1516 - val_accuracy: 0.1871\n",
      "Epoch 2/25\n",
      "84/84 [==============================] - 1s 18ms/step - loss: 2.0094 - accuracy: 0.2688 - val_loss: 1.8943 - val_accuracy: 0.3320\n",
      "Epoch 3/25\n",
      "84/84 [==============================] - 1s 16ms/step - loss: 1.9127 - accuracy: 0.3125 - val_loss: 1.9274 - val_accuracy: 0.3037\n",
      "Epoch 4/25\n",
      "84/84 [==============================] - 1s 14ms/step - loss: 1.8539 - accuracy: 0.3306 - val_loss: 1.8152 - val_accuracy: 0.3433\n",
      "Epoch 5/25\n",
      "84/84 [==============================] - 1s 14ms/step - loss: 1.8088 - accuracy: 0.3478 - val_loss: 1.8439 - val_accuracy: 0.3413\n",
      "Epoch 6/25\n",
      "84/84 [==============================] - 1s 14ms/step - loss: 1.7786 - accuracy: 0.3599 - val_loss: 1.7087 - val_accuracy: 0.3840\n",
      "Epoch 7/25\n",
      "84/84 [==============================] - 1s 14ms/step - loss: 1.7408 - accuracy: 0.3723 - val_loss: 2.0318 - val_accuracy: 0.2961\n",
      "Epoch 8/25\n",
      "84/84 [==============================] - 1s 14ms/step - loss: 1.7167 - accuracy: 0.3824 - val_loss: 1.6832 - val_accuracy: 0.4038\n",
      "Epoch 9/25\n",
      "84/84 [==============================] - 1s 15ms/step - loss: 1.6888 - accuracy: 0.3944 - val_loss: 1.7535 - val_accuracy: 0.3690\n",
      "Epoch 10/25\n",
      "84/84 [==============================] - 1s 14ms/step - loss: 1.6704 - accuracy: 0.3976 - val_loss: 1.7078 - val_accuracy: 0.3887\n",
      "Epoch 11/25\n",
      "84/84 [==============================] - 1s 15ms/step - loss: 1.6374 - accuracy: 0.4115 - val_loss: 1.7729 - val_accuracy: 0.3669\n",
      "Epoch 12/25\n",
      "84/84 [==============================] - 1s 14ms/step - loss: 1.6229 - accuracy: 0.4180 - val_loss: 1.8145 - val_accuracy: 0.3650\n",
      "Epoch 13/25\n",
      "84/84 [==============================] - 1s 14ms/step - loss: 1.6036 - accuracy: 0.4242 - val_loss: 1.7355 - val_accuracy: 0.3806\n",
      "Epoch 14/25\n",
      "84/84 [==============================] - 1s 14ms/step - loss: 1.5861 - accuracy: 0.4329 - val_loss: 1.6331 - val_accuracy: 0.4153\n",
      "Epoch 15/25\n",
      "84/84 [==============================] - 1s 14ms/step - loss: 1.5681 - accuracy: 0.4391 - val_loss: 1.6661 - val_accuracy: 0.4037\n",
      "Epoch 16/25\n",
      "84/84 [==============================] - 1s 14ms/step - loss: 1.5541 - accuracy: 0.4428 - val_loss: 1.5874 - val_accuracy: 0.4335\n",
      "Epoch 17/25\n",
      "84/84 [==============================] - 1s 14ms/step - loss: 1.5414 - accuracy: 0.4483 - val_loss: 1.5639 - val_accuracy: 0.4371\n",
      "Epoch 18/25\n",
      "84/84 [==============================] - 1s 14ms/step - loss: 1.5246 - accuracy: 0.4542 - val_loss: 1.5888 - val_accuracy: 0.4345\n",
      "Epoch 19/25\n",
      "84/84 [==============================] - 1s 14ms/step - loss: 1.5110 - accuracy: 0.4587 - val_loss: 1.6065 - val_accuracy: 0.4332\n",
      "Epoch 20/25\n",
      "84/84 [==============================] - 1s 13ms/step - loss: 1.4993 - accuracy: 0.4644 - val_loss: 1.5984 - val_accuracy: 0.4282\n",
      "Epoch 21/25\n",
      "84/84 [==============================] - 1s 13ms/step - loss: 1.4856 - accuracy: 0.4690 - val_loss: 1.5824 - val_accuracy: 0.4392\n",
      "Epoch 22/25\n",
      "84/84 [==============================] - 1s 14ms/step - loss: 1.4743 - accuracy: 0.4740 - val_loss: 1.5608 - val_accuracy: 0.4359\n",
      "Epoch 23/25\n",
      "84/84 [==============================] - 1s 14ms/step - loss: 1.4620 - accuracy: 0.4749 - val_loss: 1.5714 - val_accuracy: 0.4423\n",
      "Epoch 24/25\n",
      "84/84 [==============================] - 1s 14ms/step - loss: 1.4513 - accuracy: 0.4766 - val_loss: 1.5290 - val_accuracy: 0.4599\n",
      "Epoch 25/25\n",
      "84/84 [==============================] - 1s 14ms/step - loss: 1.4416 - accuracy: 0.4811 - val_loss: 1.5041 - val_accuracy: 0.4672\n"
     ]
    }
   ],
   "source": [
    "hist=model.fit(xtrain,ytrain,epochs=25,validation_data=(xtest,ytest),batch_size=600)"
   ]
  },
  {
   "cell_type": "code",
   "execution_count": 10,
   "id": "3d584c70-1e7a-425e-bc09-793c7af78a80",
   "metadata": {},
   "outputs": [],
   "source": [
    "his=hist.history"
   ]
  },
  {
   "cell_type": "code",
   "execution_count": 11,
   "id": "4af8c498-ce4c-4ec2-8d3f-d4eb7b1b3010",
   "metadata": {},
   "outputs": [
    {
     "data": {
      "text/plain": [
       "{'loss': [2.1941401958465576,\n",
       "  2.0093560218811035,\n",
       "  1.912658452987671,\n",
       "  1.8539113998413086,\n",
       "  1.808810830116272,\n",
       "  1.7786030769348145,\n",
       "  1.7408268451690674,\n",
       "  1.716740369796753,\n",
       "  1.6888116598129272,\n",
       "  1.6703675985336304,\n",
       "  1.6373597383499146,\n",
       "  1.622921109199524,\n",
       "  1.6035815477371216,\n",
       "  1.5860612392425537,\n",
       "  1.5680842399597168,\n",
       "  1.5540927648544312,\n",
       "  1.5414485931396484,\n",
       "  1.5245860815048218,\n",
       "  1.5110176801681519,\n",
       "  1.4992809295654297,\n",
       "  1.4855717420578003,\n",
       "  1.4742763042449951,\n",
       "  1.4619965553283691,\n",
       "  1.4512760639190674,\n",
       "  1.4415615797042847],\n",
       " 'accuracy': [0.18634000420570374,\n",
       "  0.2687999904155731,\n",
       "  0.3125399947166443,\n",
       "  0.33059999346733093,\n",
       "  0.3478200137615204,\n",
       "  0.35989999771118164,\n",
       "  0.37229999899864197,\n",
       "  0.38238000869750977,\n",
       "  0.3944399952888489,\n",
       "  0.397599995136261,\n",
       "  0.41152000427246094,\n",
       "  0.417959988117218,\n",
       "  0.4241800010204315,\n",
       "  0.43290001153945923,\n",
       "  0.4391399919986725,\n",
       "  0.44275999069213867,\n",
       "  0.44830000400543213,\n",
       "  0.45416000485420227,\n",
       "  0.4586600065231323,\n",
       "  0.4644399881362915,\n",
       "  0.46898001432418823,\n",
       "  0.4740400016307831,\n",
       "  0.4749000072479248,\n",
       "  0.4765799939632416,\n",
       "  0.4810999929904938],\n",
       " 'val_loss': [2.151595115661621,\n",
       "  1.8942904472351074,\n",
       "  1.9274455308914185,\n",
       "  1.8152142763137817,\n",
       "  1.843869686126709,\n",
       "  1.7086719274520874,\n",
       "  2.031757354736328,\n",
       "  1.6832011938095093,\n",
       "  1.7535048723220825,\n",
       "  1.7078468799591064,\n",
       "  1.772873044013977,\n",
       "  1.8145318031311035,\n",
       "  1.7354562282562256,\n",
       "  1.6331249475479126,\n",
       "  1.6661291122436523,\n",
       "  1.5874453783035278,\n",
       "  1.5638508796691895,\n",
       "  1.588791847229004,\n",
       "  1.6064882278442383,\n",
       "  1.5983672142028809,\n",
       "  1.5823544263839722,\n",
       "  1.5607631206512451,\n",
       "  1.5714486837387085,\n",
       "  1.5289613008499146,\n",
       "  1.5041474103927612],\n",
       " 'val_accuracy': [0.18709999322891235,\n",
       "  0.3319999873638153,\n",
       "  0.3037000000476837,\n",
       "  0.3433000147342682,\n",
       "  0.34130001068115234,\n",
       "  0.3840000033378601,\n",
       "  0.296099990606308,\n",
       "  0.40380001068115234,\n",
       "  0.36899998784065247,\n",
       "  0.388700008392334,\n",
       "  0.3668999969959259,\n",
       "  0.36500000953674316,\n",
       "  0.3806000053882599,\n",
       "  0.41530001163482666,\n",
       "  0.40369999408721924,\n",
       "  0.4334999918937683,\n",
       "  0.43709999322891235,\n",
       "  0.4345000088214874,\n",
       "  0.43320000171661377,\n",
       "  0.42820000648498535,\n",
       "  0.4392000138759613,\n",
       "  0.4359000027179718,\n",
       "  0.4422999918460846,\n",
       "  0.45989999175071716,\n",
       "  0.46720001101493835]}"
      ]
     },
     "execution_count": 11,
     "metadata": {},
     "output_type": "execute_result"
    }
   ],
   "source": [
    "his"
   ]
  },
  {
   "cell_type": "code",
   "execution_count": 12,
   "id": "74f39b88-172c-4651-ade6-4af8c870b01b",
   "metadata": {},
   "outputs": [
    {
     "data": {
      "text/plain": [
       "<matplotlib.legend.Legend at 0x1fb07ef6520>"
      ]
     },
     "execution_count": 12,
     "metadata": {},
     "output_type": "execute_result"
    },
    {
     "data": {
      "image/png": "[encoded data removed]",
      "text/plain": [
       "<Figure size 432x288 with 1 Axes>"
      ]
     },
     "metadata": {
      "needs_background": "light"
     },
     "output_type": "display_data"
    }
   ],
   "source": [
    "plt.plot(his['accuracy'],label='accuracy')\n",
    "plt.plot(his['val_accuracy'],label='validation accuracy')\n",
    "plt.xlabel('epochs')\n",
    "plt.title('learning curve')\n",
    "plt.ylabel('accuracy value')\n",
    "plt.legend()"
   ]
  },
  {
   "cell_type": "code",
   "execution_count": 13,
   "id": "884c4822-4deb-4ae3-8cb2-f0a0e218fb9b",
   "metadata": {},
   "outputs": [
    {
     "data": {
      "text/plain": [
       "<matplotlib.legend.Legend at 0x1fb07f4ebb0>"
      ]
     },
     "execution_count": 13,
     "metadata": {},
     "output_type": "execute_result"
    },
    {
     "data": {
      "image/png": "[encoded data removed]",
      "text/plain": [
       "<Figure size 432x288 with 1 Axes>"
      ]
     },
     "metadata": {
      "needs_background": "light"
     },
     "output_type": "display_data"
    }
   ],
   "source": [
    "plt.plot(his['loss'],label='loss')\n",
    "plt.plot(his['val_loss'],label='validation loss')\n",
    "plt.xlabel('epochs')\n",
    "plt.ylabel('loss value')\n",
    "plt.title('learning curve')\n",
    "plt.legend()"
   ]
  },
  {
   "cell_type": "code",
   "execution_count": 14,
   "id": "632af203-6d13-48cc-a0d4-786474a7f970",
   "metadata": {},
   "outputs": [
    {
     "name": "stdout",
     "output_type": "stream",
     "text": [
      "313/313 [==============================] - 1s 3ms/step - loss: 1.5041 - accuracy: 0.4672\n"
     ]
    },
    {
     "data": {
      "text/plain": [
       "[1.5041474103927612, 0.46720001101493835]"
      ]
     },
     "execution_count": 14,
     "metadata": {},
     "output_type": "execute_result"
    }
   ],
   "source": [
    "model.evaluate(xtest,ytest)"
   ]
  },
  {
   "cell_type": "code",
   "execution_count": null,
   "id": "a0bd1bd2-5148-4d0a-9fe1-e20dccdf35d8",
   "metadata": {},
   "outputs": [],
   "source": []
  }
 ],
 "metadata": {
  "kernelspec": {
   "display_name": "Python 3 (ipykernel)",
   "language": "python",
   "name": "python3"
  },
  "language_info": {
   "codemirror_mode": {
    "name": "ipython",
    "version": 3
   },
   "file_extension": ".py",
   "mimetype": "text/x-python",
   "name": "python",
   "nbconvert_exporter": "python",
   "pygments_lexer": "ipython3",
   "version": "3.9.12"
  }
 },
 "nbformat": 4,
 "nbformat_minor": 5
}
