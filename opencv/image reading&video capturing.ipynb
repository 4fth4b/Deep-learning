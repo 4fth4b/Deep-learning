{
 "cells": [
  {
   "cell_type": "code",
   "execution_count": 1,
   "id": "7b60d357-65e2-4c14-b2e9-8e3c8ac076a7",
   "metadata": {},
   "outputs": [
    {
     "name": "stdout",
     "output_type": "stream",
     "text": [
      "Requirement already satisfied: opencv-python in c:\\users\\aftha\\anaconda3\\lib\\site-packages (4.6.0.66)\n",
      "Requirement already satisfied: numpy>=1.14.5 in c:\\users\\aftha\\anaconda3\\lib\\site-packages (from opencv-python) (1.21.5)\n",
      "Note: you may need to restart the kernel to use updated packages.\n"
     ]
    }
   ],
   "source": [
    "pip install opencv-python"
   ]
  },
  {
   "cell_type": "code",
   "execution_count": 1,
   "id": "ad824ae4-9f60-4036-8733-6dcbb09a87e7",
   "metadata": {},
   "outputs": [],
   "source": [
    "import cv2"
   ]
  },
  {
   "cell_type": "code",
   "execution_count": 12,
   "id": "111ae291-7948-48cd-80ad-12f2896618d4",
   "metadata": {},
   "outputs": [],
   "source": [
    "#Reading and viewing an image\n",
    "img=cv2.imread(\"lion.jpg\")\n",
    "cv2.imshow('lion',img)\n",
    "cv2.waitKey()\n",
    "cv2.destroyAllWindows()"
   ]
  },
  {
   "cell_type": "code",
   "execution_count": 13,
   "id": "ebf9c39b-78b6-4ffa-ad5f-a43d6ebc81e7",
   "metadata": {},
   "outputs": [],
   "source": [
    "#viewing live video using webcam\n",
    "vid=cv2.VideoCapture(0)\n",
    "while(True):\n",
    "    ret,frame=vid.read()\n",
    "    cv2.imshow('frame',frame)\n",
    "    if cv2.waitKey(1)==ord('c'):\n",
    "        break\n",
    "vid.release()\n",
    "cv2.destroyAllWindows()\n",
    "    "
   ]
  }
 ],
 "metadata": {
  "kernelspec": {
   "display_name": "Python 3 (ipykernel)",
   "language": "python",
   "name": "python3"
  },
  "language_info": {
   "codemirror_mode": {
    "name": "ipython",
    "version": 3
   },
   "file_extension": ".py",
   "mimetype": "text/x-python",
   "name": "python",
   "nbconvert_exporter": "python",
   "pygments_lexer": "ipython3",
   "version": "3.9.12"
  }
 },
 "nbformat": 4,
 "nbformat_minor": 5
}
