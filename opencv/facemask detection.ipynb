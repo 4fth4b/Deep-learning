{
 "cells": [
  {
   "cell_type": "code",
   "execution_count": 1,
   "id": "3819c792-eca1-4cf2-b332-e42135da34c7",
   "metadata": {},
   "outputs": [],
   "source": [
    "import cv2\n",
    "import pandas as pd\n",
    "import numpy as np\n",
    "import matplotlib.pyplot as plt\n",
    "import keras\n",
    "import tensorflow as tf\n",
    "from tensorflow.keras import Sequential\n",
    "from tensorflow.keras.layers import Dense,Flatten,MaxPool2D,Conv2D\n",
    "from tensorflow.keras.losses import SparseCategoricalCrossentropy as SCC\n",
    "from tensorflow.keras.optimizers import Adam\n",
    "import glob\n",
    "import pathlib"
   ]
  },
  {
   "cell_type": "code",
   "execution_count": 3,
   "id": "c50cc23e-588d-4488-9643-5caf351bc820",
   "metadata": {},
   "outputs": [],
   "source": [
    "pic_path=pathlib.Path(r\"C:\\Users\\aftha\\OneDrive\\Desktop\\Mask detection dataset\\Face Mask Dataset\\face mask\")"
   ]
  },
  {
   "cell_type": "code",
   "execution_count": 4,
   "id": "462958c8-8c93-4f6f-a4e9-34cb508f15c8",
   "metadata": {},
   "outputs": [
    {
     "data": {
      "text/plain": [
       "WindowsPath('C:/Users/aftha/OneDrive/Desktop/Mask detection dataset/Face Mask Dataset/face mask')"
      ]
     },
     "execution_count": 4,
     "metadata": {},
     "output_type": "execute_result"
    }
   ],
   "source": [
    "pic_path"
   ]
  },
  {
   "cell_type": "code",
   "execution_count": 5,
   "id": "d09e0b67-d5a9-46e7-a1fe-bc6f9649215f",
   "metadata": {},
   "outputs": [],
   "source": [
    "mask=list(pic_path.glob('WithMask/*'))\n",
    "nomask=list(pic_path.glob('WithoutMask/*'))"
   ]
  },
  {
   "cell_type": "code",
   "execution_count": 6,
   "id": "643c73aa-b3de-4b23-9440-3548770a40d2",
   "metadata": {},
   "outputs": [
    {
     "data": {
      "text/plain": [
       "5000"
      ]
     },
     "execution_count": 6,
     "metadata": {},
     "output_type": "execute_result"
    }
   ],
   "source": [
    "len(mask)"
   ]
  },
  {
   "cell_type": "code",
   "execution_count": 7,
   "id": "f70485f5-f51e-4eb2-88d1-58485b739e79",
   "metadata": {},
   "outputs": [
    {
     "data": {
      "text/plain": [
       "5000"
      ]
     },
     "execution_count": 7,
     "metadata": {},
     "output_type": "execute_result"
    }
   ],
   "source": [
    "len(nomask)"
   ]
  },
  {
   "cell_type": "code",
   "execution_count": 8,
   "id": "2abd8800-3dbe-412f-8f9d-966539735bc9",
   "metadata": {},
   "outputs": [],
   "source": [
    "pic_dict={'mask':mask,'nomask':nomask}"
   ]
  },
  {
   "cell_type": "code",
   "execution_count": 9,
   "id": "c7a96b9d-f1bb-44f0-b3d6-7eb9a6b70659",
   "metadata": {},
   "outputs": [],
   "source": [
    "pic_class={'mask':0,'nomask':1}"
   ]
  },
  {
   "cell_type": "code",
   "execution_count": 10,
   "id": "7de572aa-b57b-4ca8-bc13-beeb6e3d270e",
   "metadata": {},
   "outputs": [],
   "source": [
    "x=[]\n",
    "y=[]"
   ]
  },
  {
   "cell_type": "code",
   "execution_count": 11,
   "id": "c1c29129-8b96-4f4d-a250-348028f96257",
   "metadata": {},
   "outputs": [],
   "source": [
    "for i in pic_dict:\n",
    "    pic_path_list=pic_dict[i]\n",
    "    for path in pic_path_list:\n",
    "        img=cv2.imread(str(path))\n",
    "        img=cv2.resize(img,(75,75))\n",
    "        img=img/255\n",
    "        x.append(img)\n",
    "        y.append(pic_class[i])\n",
    "        "
   ]
  },
  {
   "cell_type": "code",
   "execution_count": 12,
   "id": "281dbf46-d63f-4352-8856-af409a6ae6ef",
   "metadata": {},
   "outputs": [],
   "source": [
    "x=np.array(x)\n",
    "y=np.array(y)"
   ]
  },
  {
   "cell_type": "code",
   "execution_count": 13,
   "id": "bc9f446d-63b2-4f4c-8100-73b2a72b1b47",
   "metadata": {},
   "outputs": [
    {
     "name": "stdout",
     "output_type": "stream",
     "text": [
      "(10000, 75, 75, 3)\n",
      "(10000,)\n"
     ]
    }
   ],
   "source": [
    "print(x.shape)\n",
    "print(y.shape)"
   ]
  },
  {
   "cell_type": "code",
   "execution_count": 14,
   "id": "9158897b-62f7-4de7-9fa3-b49bcd3e92a3",
   "metadata": {},
   "outputs": [],
   "source": [
    "from sklearn.model_selection import train_test_split\n",
    "from tensorflow.keras import Sequential\n",
    "from tensorflow.keras.layers import Flatten,Dense,Conv2D,MaxPool2D\n",
    "from tensorflow.keras.losses import SparseCategoricalCrossentropy "
   ]
  },
  {
   "cell_type": "code",
   "execution_count": 15,
   "id": "571d976d-0c87-4c24-9291-89a952364c6d",
   "metadata": {},
   "outputs": [],
   "source": [
    "xtrain,xtest,ytrain,ytest=train_test_split(x,y,train_size=.75,random_state=1)"
   ]
  },
  {
   "cell_type": "code",
   "execution_count": 16,
   "id": "5b238970-a7ba-4456-9f9b-b9adfa83e38d",
   "metadata": {},
   "outputs": [
    {
     "name": "stdout",
     "output_type": "stream",
     "text": [
      "Model: \"sequential\"\n",
      "_________________________________________________________________\n",
      " Layer (type)                Output Shape              Param #   \n",
      "=================================================================\n",
      " conv2d (Conv2D)             (None, 73, 73, 150)       4200      \n",
      "                                                                 \n",
      " max_pooling2d (MaxPooling2D  (None, 36, 36, 150)      0         \n",
      " )                                                               \n",
      "                                                                 \n",
      " conv2d_1 (Conv2D)           (None, 34, 34, 100)       135100    \n",
      "                                                                 \n",
      " max_pooling2d_1 (MaxPooling  (None, 17, 17, 100)      0         \n",
      " 2D)                                                             \n",
      "                                                                 \n",
      " conv2d_2 (Conv2D)           (None, 15, 15, 70)        63070     \n",
      "                                                                 \n",
      " max_pooling2d_2 (MaxPooling  (None, 7, 7, 70)         0         \n",
      " 2D)                                                             \n",
      "                                                                 \n",
      " flatten (Flatten)           (None, 3430)              0         \n",
      "                                                                 \n",
      " dense (Dense)               (None, 100)               343100    \n",
      "                                                                 \n",
      " dense_1 (Dense)             (None, 100)               10100     \n",
      "                                                                 \n",
      " dense_2 (Dense)             (None, 90)                9090      \n",
      "                                                                 \n",
      " dense_3 (Dense)             (None, 2)                 182       \n",
      "                                                                 \n",
      "=================================================================\n",
      "Total params: 564,842\n",
      "Trainable params: 564,842\n",
      "Non-trainable params: 0\n",
      "_________________________________________________________________\n"
     ]
    }
   ],
   "source": [
    "model=Sequential()\n",
    "\n",
    "model.add(Conv2D(filters=150,kernel_size=(3,3),input_shape=(75,75,3),activation='relu'))\n",
    "model.add(MaxPool2D(pool_size=(2,2)))\n",
    "\n",
    "model.add(Conv2D(filters=100,kernel_size=(3,3),input_shape=(75,75,3),activation='relu'))\n",
    "model.add(MaxPool2D(pool_size=(2,2)))\n",
    "\n",
    "model.add(Conv2D(filters=70,kernel_size=(3,3),input_shape=(75,75,3),activation='relu'))\n",
    "model.add(MaxPool2D(pool_size=(2,2)))\n",
    "\n",
    "model.add(Flatten())\n",
    "model.add(Dense(100,activation='relu'))\n",
    "model.add(Dense(100,activation='relu'))\n",
    "model.add(Dense(90,activation='relu'))\n",
    "\n",
    "model.add(Dense(2,activation='softmax'))\n",
    "\n",
    "model.summary()"
   ]
  },
  {
   "cell_type": "code",
   "execution_count": 17,
   "id": "d84895d0-d15f-476d-8c85-6966da8d9613",
   "metadata": {},
   "outputs": [],
   "source": [
    "model.compile(optimizer='adam',loss=SCC(),metrics=['accuracy'])"
   ]
  },
  {
   "cell_type": "code",
   "execution_count": 18,
   "id": "be5b4bc9-51dc-4cf8-b592-20162149c02e",
   "metadata": {},
   "outputs": [
    {
     "name": "stdout",
     "output_type": "stream",
     "text": [
      "Epoch 1/10\n",
      "235/235 [==============================] - 63s 267ms/step - loss: 0.1989 - accuracy: 0.9169 - val_loss: 0.1110 - val_accuracy: 0.9620\n",
      "Epoch 2/10\n",
      "235/235 [==============================] - 61s 259ms/step - loss: 0.0897 - accuracy: 0.9699 - val_loss: 0.0935 - val_accuracy: 0.9656\n",
      "Epoch 3/10\n",
      "235/235 [==============================] - 61s 260ms/step - loss: 0.0770 - accuracy: 0.9739 - val_loss: 0.0402 - val_accuracy: 0.9844\n",
      "Epoch 4/10\n",
      "235/235 [==============================] - 61s 260ms/step - loss: 0.0385 - accuracy: 0.9867 - val_loss: 0.0635 - val_accuracy: 0.9752\n",
      "Epoch 5/10\n",
      "235/235 [==============================] - 61s 259ms/step - loss: 0.0368 - accuracy: 0.9864 - val_loss: 0.0516 - val_accuracy: 0.9844\n",
      "Epoch 6/10\n",
      "235/235 [==============================] - 61s 260ms/step - loss: 0.0333 - accuracy: 0.9876 - val_loss: 0.0233 - val_accuracy: 0.9924\n",
      "Epoch 7/10\n",
      "235/235 [==============================] - 61s 258ms/step - loss: 0.0250 - accuracy: 0.9919 - val_loss: 0.0281 - val_accuracy: 0.9896\n",
      "Epoch 8/10\n",
      "235/235 [==============================] - 61s 258ms/step - loss: 0.0227 - accuracy: 0.9925 - val_loss: 0.0355 - val_accuracy: 0.9904\n",
      "Epoch 9/10\n",
      "235/235 [==============================] - 61s 258ms/step - loss: 0.0173 - accuracy: 0.9936 - val_loss: 0.0295 - val_accuracy: 0.9912\n",
      "Epoch 10/10\n",
      "235/235 [==============================] - 60s 257ms/step - loss: 0.0201 - accuracy: 0.9924 - val_loss: 0.0785 - val_accuracy: 0.9768\n"
     ]
    }
   ],
   "source": [
    "hist=model.fit(xtrain,ytrain,epochs=10,validation_data=(xtest,ytest))"
   ]
  },
  {
   "cell_type": "code",
   "execution_count": 19,
   "id": "c56e378d-ea4e-4a2b-a253-e618c7a83bab",
   "metadata": {},
   "outputs": [],
   "source": [
    "his=hist.history"
   ]
  },
  {
   "cell_type": "code",
   "execution_count": 20,
   "id": "db76bab5-a43e-4f17-b430-fa9289e326c4",
   "metadata": {},
   "outputs": [
    {
     "data": {
      "text/plain": [
       "{'loss': [0.19888871908187866,\n",
       "  0.08969125896692276,\n",
       "  0.07701020687818527,\n",
       "  0.038505759090185165,\n",
       "  0.036814846098423004,\n",
       "  0.03325822204351425,\n",
       "  0.024997528642416,\n",
       "  0.022723348811268806,\n",
       "  0.017286811023950577,\n",
       "  0.020080043002963066],\n",
       " 'accuracy': [0.9169333577156067,\n",
       "  0.9698666930198669,\n",
       "  0.9738666415214539,\n",
       "  0.9866666793823242,\n",
       "  0.9864000082015991,\n",
       "  0.9876000285148621,\n",
       "  0.9918666481971741,\n",
       "  0.9925333261489868,\n",
       "  0.9936000108718872,\n",
       "  0.9923999905586243],\n",
       " 'val_loss': [0.11099963635206223,\n",
       "  0.09353145211935043,\n",
       "  0.04024552181363106,\n",
       "  0.06348802149295807,\n",
       "  0.051616448909044266,\n",
       "  0.02334226295351982,\n",
       "  0.0280634555965662,\n",
       "  0.03554951399564743,\n",
       "  0.029487360268831253,\n",
       "  0.07850810885429382],\n",
       " 'val_accuracy': [0.9620000123977661,\n",
       "  0.9656000137329102,\n",
       "  0.9843999743461609,\n",
       "  0.9751999974250793,\n",
       "  0.9843999743461609,\n",
       "  0.9923999905586243,\n",
       "  0.9896000027656555,\n",
       "  0.9904000163078308,\n",
       "  0.9911999702453613,\n",
       "  0.9768000245094299]}"
      ]
     },
     "execution_count": 20,
     "metadata": {},
     "output_type": "execute_result"
    }
   ],
   "source": [
    "his"
   ]
  },
  {
   "cell_type": "code",
   "execution_count": 21,
   "id": "acd45539-47d1-4908-aa3e-5f8458006ac4",
   "metadata": {},
   "outputs": [],
   "source": [
    "model.save('facemask.h5')"
   ]
  },
  {
   "cell_type": "code",
   "execution_count": 22,
   "id": "9f2bd4ec-1ee1-466e-9ad4-fa7d6f24d8f8",
   "metadata": {},
   "outputs": [
    {
     "name": "stdout",
     "output_type": "stream",
     "text": [
      "79/79 [==============================] - 4s 53ms/step - loss: 0.0785 - accuracy: 0.9768\n"
     ]
    },
    {
     "data": {
      "text/plain": [
       "[0.07850810885429382, 0.9768000245094299]"
      ]
     },
     "execution_count": 22,
     "metadata": {},
     "output_type": "execute_result"
    }
   ],
   "source": [
    "model.evaluate(xtest,ytest)"
   ]
  },
  {
   "cell_type": "code",
   "execution_count": 23,
   "id": "e3fccede-5e99-429a-a705-00a13b16e47b",
   "metadata": {},
   "outputs": [
    {
     "data": {
      "text/plain": [
       "<matplotlib.legend.Legend at 0x24c4fd01f40>"
      ]
     },
     "execution_count": 23,
     "metadata": {},
     "output_type": "execute_result"
    },
    {
     "data": {
      "image/png": "[encoded data removed]",
      "text/plain": [
       "<Figure size 432x288 with 1 Axes>"
      ]
     },
     "metadata": {
      "needs_background": "light"
     },
     "output_type": "display_data"
    }
   ],
   "source": [
    "plt.plot(his['accuracy'],label='accuracy')\n",
    "plt.plot(his['val_accuracy'],label='validation accuracy')\n",
    "plt.title(\"learning curve\")\n",
    "plt.xlabel(\"epochs\")\n",
    "plt.ylabel(\"accuracy value\")\n",
    "plt.legend()"
   ]
  },
  {
   "cell_type": "code",
   "execution_count": 24,
   "id": "0cb71d3c-4ff9-49d2-b36b-88196024516f",
   "metadata": {},
   "outputs": [
    {
     "data": {
      "text/plain": [
       "<matplotlib.legend.Legend at 0x24d46abab20>"
      ]
     },
     "execution_count": 24,
     "metadata": {},
     "output_type": "execute_result"
    },
    {
     "data": {
      "image/png": "[encoded data removed]",
      "text/plain": [
       "<Figure size 432x288 with 1 Axes>"
      ]
     },
     "metadata": {
      "needs_background": "light"
     },
     "output_type": "display_data"
    }
   ],
   "source": [
    "plt.plot(his['loss'],label='loss')\n",
    "plt.plot(his['val_loss'],label='validation loss')\n",
    "plt.title('learning curve')\n",
    "plt.xlabel('epochs')\n",
    "plt.ylabel('loss value')\n",
    "plt.legend()"
   ]
  },
  {
   "cell_type": "code",
   "execution_count": 77,
   "id": "68e45a33-51e1-4ccc-9ab3-d3988f2b5107",
   "metadata": {},
   "outputs": [],
   "source": [
    "img=cv2.imread('beautiful-face-png-image.png')\n",
    "img=cv2.resize(img,(75,75))\n",
    "img=img.reshape(1,75,75,3)"
   ]
  },
  {
   "cell_type": "code",
   "execution_count": 78,
   "id": "2c250e12-ebd0-4578-87ae-32ef6da428a7",
   "metadata": {},
   "outputs": [
    {
     "name": "stdout",
     "output_type": "stream",
     "text": [
      "1/1 [==============================] - 0s 25ms/step\n"
     ]
    },
    {
     "data": {
      "text/plain": [
       "array([[0., 1.]], dtype=float32)"
      ]
     },
     "execution_count": 78,
     "metadata": {},
     "output_type": "execute_result"
    }
   ],
   "source": [
    "pred=model.predict(img)\n",
    "pred"
   ]
  },
  {
   "cell_type": "code",
   "execution_count": 79,
   "id": "a253b674-c49a-45e4-a2e0-83115d19adf8",
   "metadata": {},
   "outputs": [
    {
     "name": "stdout",
     "output_type": "stream",
     "text": [
      "prediction= nomask\n"
     ]
    }
   ],
   "source": [
    "index=np.argmax(pred)\n",
    "for i,v in pic_class.items():\n",
    "    if v==index:\n",
    "        print('prediction=',i)"
   ]
  },
  {
   "cell_type": "code",
   "execution_count": 3,
   "id": "f1b17479-7eaa-4e73-926f-98f753208dc9",
   "metadata": {},
   "outputs": [],
   "source": [
    "haar_data=cv2.CascadeClassifier(cv2.data.haarcascades+ \"haarcascade_frontalface_default.xml\")"
   ]
  },
  {
   "cell_type": "code",
   "execution_count": 4,
   "id": "094dd868-81f5-4814-be72-93a894b933be",
   "metadata": {},
   "outputs": [
    {
     "name": "stdout",
     "output_type": "stream",
     "text": [
      "1/1 [==============================] - 0s 301ms/step\n",
      "1/1 [==============================] - 0s 146ms/step\n",
      "1/1 [==============================] - 0s 130ms/step\n",
      "1/1 [==============================] - 0s 121ms/step\n",
      "WARNING:tensorflow:5 out of the last 5 calls to <function Model.make_predict_function.<locals>.predict_function at 0x0000015CB75BEF70> triggered tf.function retracing. Tracing is expensive and the excessive number of tracings could be due to (1) creating @tf.function repeatedly in a loop, (2) passing tensors with different shapes, (3) passing Python objects instead of tensors. For (1), please define your @tf.function outside of the loop. For (2), @tf.function has reduce_retracing=True option that can avoid unnecessary retracing. For (3), please refer to https://www.tensorflow.org/guide/function#controlling_retracing and https://www.tensorflow.org/api_docs/python/tf/function for  more details.\n",
      "1/1 [==============================] - 0s 125ms/step\n",
      "WARNING:tensorflow:6 out of the last 6 calls to <function Model.make_predict_function.<locals>.predict_function at 0x0000015CB796AA60> triggered tf.function retracing. Tracing is expensive and the excessive number of tracings could be due to (1) creating @tf.function repeatedly in a loop, (2) passing tensors with different shapes, (3) passing Python objects instead of tensors. For (1), please define your @tf.function outside of the loop. For (2), @tf.function has reduce_retracing=True option that can avoid unnecessary retracing. For (3), please refer to https://www.tensorflow.org/guide/function#controlling_retracing and https://www.tensorflow.org/api_docs/python/tf/function for  more details.\n",
      "1/1 [==============================] - 0s 133ms/step\n",
      "1/1 [==============================] - 0s 118ms/step\n",
      "1/1 [==============================] - 0s 126ms/step\n",
      "1/1 [==============================] - 0s 124ms/step\n",
      "1/1 [==============================] - 0s 116ms/step\n",
      "1/1 [==============================] - 0s 154ms/step\n",
      "1/1 [==============================] - 0s 121ms/step\n",
      "1/1 [==============================] - 0s 93ms/step\n",
      "1/1 [==============================] - 0s 81ms/step\n",
      "1/1 [==============================] - 0s 268ms/step\n",
      "1/1 [==============================] - 0s 74ms/step\n",
      "1/1 [==============================] - 0s 75ms/step\n",
      "1/1 [==============================] - 0s 83ms/step\n",
      "1/1 [==============================] - 0s 74ms/step\n",
      "1/1 [==============================] - 0s 21ms/step\n",
      "1/1 [==============================] - 0s 77ms/step\n",
      "1/1 [==============================] - 0s 74ms/step\n",
      "1/1 [==============================] - 0s 70ms/step\n",
      "1/1 [==============================] - 0s 81ms/step\n",
      "1/1 [==============================] - 0s 74ms/step\n",
      "1/1 [==============================] - 0s 74ms/step\n",
      "1/1 [==============================] - 0s 87ms/step\n",
      "1/1 [==============================] - 0s 75ms/step\n",
      "1/1 [==============================] - 0s 71ms/step\n",
      "1/1 [==============================] - 0s 74ms/step\n",
      "1/1 [==============================] - 0s 74ms/step\n",
      "1/1 [==============================] - 0s 75ms/step\n",
      "1/1 [==============================] - 0s 83ms/step\n",
      "1/1 [==============================] - 0s 72ms/step\n",
      "1/1 [==============================] - 0s 71ms/step\n",
      "1/1 [==============================] - 0s 73ms/step\n",
      "1/1 [==============================] - 0s 76ms/step\n",
      "1/1 [==============================] - 0s 78ms/step\n",
      "1/1 [==============================] - 0s 87ms/step\n",
      "1/1 [==============================] - 0s 78ms/step\n",
      "1/1 [==============================] - 0s 76ms/step\n",
      "1/1 [==============================] - 0s 19ms/step\n",
      "1/1 [==============================] - 0s 76ms/step\n",
      "1/1 [==============================] - 0s 72ms/step\n",
      "1/1 [==============================] - 0s 102ms/step\n",
      "1/1 [==============================] - 0s 21ms/step\n",
      "1/1 [==============================] - 0s 83ms/step\n",
      "1/1 [==============================] - 0s 79ms/step\n",
      "1/1 [==============================] - 0s 74ms/step\n",
      "1/1 [==============================] - 0s 72ms/step\n",
      "1/1 [==============================] - 0s 73ms/step\n",
      "1/1 [==============================] - 0s 79ms/step\n",
      "1/1 [==============================] - 0s 90ms/step\n",
      "1/1 [==============================] - 0s 73ms/step\n",
      "1/1 [==============================] - 0s 74ms/step\n",
      "1/1 [==============================] - 0s 78ms/step\n",
      "1/1 [==============================] - 0s 75ms/step\n",
      "1/1 [==============================] - 0s 77ms/step\n",
      "1/1 [==============================] - 0s 74ms/step\n",
      "1/1 [==============================] - 0s 74ms/step\n",
      "1/1 [==============================] - 0s 83ms/step\n",
      "1/1 [==============================] - 0s 83ms/step\n",
      "1/1 [==============================] - 0s 79ms/step\n",
      "1/1 [==============================] - 0s 74ms/step\n",
      "1/1 [==============================] - 0s 84ms/step\n",
      "1/1 [==============================] - 0s 82ms/step\n",
      "1/1 [==============================] - 0s 73ms/step\n",
      "1/1 [==============================] - 0s 71ms/step\n",
      "1/1 [==============================] - 0s 79ms/step\n",
      "1/1 [==============================] - 0s 77ms/step\n",
      "1/1 [==============================] - 0s 74ms/step\n",
      "1/1 [==============================] - 0s 87ms/step\n",
      "1/1 [==============================] - 0s 73ms/step\n",
      "1/1 [==============================] - 0s 88ms/step\n",
      "1/1 [==============================] - 0s 74ms/step\n",
      "1/1 [==============================] - 0s 75ms/step\n",
      "1/1 [==============================] - 0s 74ms/step\n",
      "1/1 [==============================] - 0s 73ms/step\n",
      "1/1 [==============================] - 0s 303ms/step\n",
      "1/1 [==============================] - 0s 73ms/step\n",
      "1/1 [==============================] - 0s 76ms/step\n",
      "1/1 [==============================] - 0s 18ms/step\n",
      "1/1 [==============================] - 0s 81ms/step\n",
      "1/1 [==============================] - 0s 72ms/step\n",
      "1/1 [==============================] - 0s 75ms/step\n",
      "1/1 [==============================] - 0s 78ms/step\n",
      "1/1 [==============================] - 0s 81ms/step\n",
      "1/1 [==============================] - 0s 75ms/step\n",
      "1/1 [==============================] - 0s 74ms/step\n",
      "1/1 [==============================] - 0s 90ms/step\n",
      "1/1 [==============================] - 0s 134ms/step\n",
      "1/1 [==============================] - 0s 74ms/step\n",
      "1/1 [==============================] - 0s 76ms/step\n",
      "1/1 [==============================] - 0s 76ms/step\n",
      "1/1 [==============================] - 0s 75ms/step\n",
      "1/1 [==============================] - 0s 78ms/step\n",
      "1/1 [==============================] - 0s 74ms/step\n",
      "1/1 [==============================] - 0s 72ms/step\n",
      "1/1 [==============================] - 0s 17ms/step\n",
      "1/1 [==============================] - 0s 77ms/step\n",
      "1/1 [==============================] - 0s 75ms/step\n",
      "1/1 [==============================] - 0s 74ms/step\n",
      "1/1 [==============================] - 0s 311ms/step\n",
      "1/1 [==============================] - 0s 75ms/step\n",
      "1/1 [==============================] - 0s 76ms/step\n",
      "1/1 [==============================] - 0s 77ms/step\n",
      "1/1 [==============================] - 0s 74ms/step\n",
      "1/1 [==============================] - 0s 27ms/step\n",
      "1/1 [==============================] - 0s 104ms/step\n",
      "1/1 [==============================] - 0s 21ms/step\n",
      "1/1 [==============================] - 0s 75ms/step\n",
      "1/1 [==============================] - 0s 24ms/step\n",
      "1/1 [==============================] - 0s 75ms/step\n",
      "1/1 [==============================] - 0s 19ms/step\n",
      "1/1 [==============================] - 0s 78ms/step\n",
      "1/1 [==============================] - 0s 74ms/step\n",
      "1/1 [==============================] - 0s 74ms/step\n",
      "1/1 [==============================] - 0s 77ms/step\n",
      "1/1 [==============================] - 0s 74ms/step\n",
      "1/1 [==============================] - 0s 73ms/step\n",
      "1/1 [==============================] - 0s 74ms/step\n",
      "1/1 [==============================] - 0s 75ms/step\n",
      "1/1 [==============================] - 0s 72ms/step\n",
      "1/1 [==============================] - 0s 77ms/step\n",
      "1/1 [==============================] - 0s 75ms/step\n",
      "1/1 [==============================] - 0s 82ms/step\n",
      "1/1 [==============================] - 0s 83ms/step\n",
      "1/1 [==============================] - 0s 76ms/step\n",
      "1/1 [==============================] - 0s 74ms/step\n",
      "1/1 [==============================] - 0s 82ms/step\n",
      "1/1 [==============================] - 0s 74ms/step\n",
      "1/1 [==============================] - 0s 77ms/step\n",
      "1/1 [==============================] - 0s 79ms/step\n",
      "1/1 [==============================] - 0s 85ms/step\n",
      "1/1 [==============================] - 0s 78ms/step\n",
      "1/1 [==============================] - 0s 102ms/step\n",
      "1/1 [==============================] - 0s 74ms/step\n",
      "1/1 [==============================] - 0s 78ms/step\n",
      "1/1 [==============================] - 0s 91ms/step\n",
      "1/1 [==============================] - 0s 75ms/step\n",
      "1/1 [==============================] - 0s 95ms/step\n",
      "1/1 [==============================] - 0s 72ms/step\n",
      "1/1 [==============================] - 0s 76ms/step\n",
      "1/1 [==============================] - 0s 83ms/step\n",
      "1/1 [==============================] - 0s 75ms/step\n",
      "1/1 [==============================] - 0s 74ms/step\n",
      "1/1 [==============================] - 0s 78ms/step\n",
      "1/1 [==============================] - 0s 77ms/step\n",
      "1/1 [==============================] - 0s 79ms/step\n",
      "1/1 [==============================] - 0s 82ms/step\n",
      "1/1 [==============================] - 0s 82ms/step\n",
      "1/1 [==============================] - 0s 74ms/step\n",
      "1/1 [==============================] - 0s 77ms/step\n",
      "1/1 [==============================] - 0s 81ms/step\n",
      "1/1 [==============================] - 0s 76ms/step\n",
      "1/1 [==============================] - 0s 72ms/step\n",
      "1/1 [==============================] - 0s 74ms/step\n",
      "1/1 [==============================] - 0s 80ms/step\n",
      "1/1 [==============================] - 0s 74ms/step\n",
      "1/1 [==============================] - 0s 77ms/step\n",
      "1/1 [==============================] - 0s 72ms/step\n",
      "1/1 [==============================] - 0s 74ms/step\n",
      "1/1 [==============================] - 0s 72ms/step\n",
      "1/1 [==============================] - 0s 101ms/step\n",
      "1/1 [==============================] - 0s 73ms/step\n",
      "1/1 [==============================] - 0s 123ms/step\n",
      "1/1 [==============================] - 0s 98ms/step\n",
      "1/1 [==============================] - 0s 76ms/step\n",
      "1/1 [==============================] - 0s 72ms/step\n",
      "1/1 [==============================] - 0s 92ms/step\n",
      "1/1 [==============================] - 0s 77ms/step\n",
      "1/1 [==============================] - 0s 73ms/step\n",
      "1/1 [==============================] - 0s 74ms/step\n",
      "1/1 [==============================] - 0s 72ms/step\n",
      "1/1 [==============================] - 0s 74ms/step\n",
      "1/1 [==============================] - 0s 75ms/step\n",
      "1/1 [==============================] - 0s 75ms/step\n",
      "1/1 [==============================] - 0s 74ms/step\n",
      "1/1 [==============================] - 0s 73ms/step\n",
      "1/1 [==============================] - 0s 83ms/step\n",
      "1/1 [==============================] - 0s 77ms/step\n",
      "1/1 [==============================] - 0s 74ms/step\n",
      "1/1 [==============================] - 0s 74ms/step\n",
      "1/1 [==============================] - 0s 310ms/step\n",
      "1/1 [==============================] - 0s 80ms/step\n",
      "1/1 [==============================] - 0s 74ms/step\n"
     ]
    }
   ],
   "source": [
    "cap=cv2.VideoCapture(0)\n",
    "labels_dict={0:'mask',1:'nomask'}\n",
    "color_dict={0:(0,255,0),1:(0,0,255)}\n",
    "while True:\n",
    "    flag,img=cap.read()\n",
    "    gray=cv2.cvtColor(img,cv2.COLOR_BGR2GRAY)\n",
    "    faces=haar_data.detectMultiScale(gray,scaleFactor=1.1,minNeighbors=5)\n",
    "    modl = keras.models.load_model('facemask.h5')\n",
    "    \n",
    "    \n",
    "    for(x,y,w,h) in faces:\n",
    "        face_img=img[y:y+w,x:x+w]\n",
    "        resized=cv2.resize(face_img,(75,75))\n",
    "        normalized=resized/255\n",
    "        reshaped=np.reshape(normalized,(1,75,75,3))\n",
    "        result=modl.predict(reshaped)\n",
    "        label=np.argmax(result,axis=1)[0]\n",
    "        cv2.rectangle(img,(x,y),(x+w,y+h),color_dict[label],2)\n",
    "        cv2.putText(img,labels_dict[label],(x+50,y+20),cv2.FONT_HERSHEY_PLAIN,0.9,(0,200,0),2)\n",
    "    cv2.imshow('live',img)\n",
    "    \n",
    "    if cv2.waitKey(20)==27:\n",
    "        break\n",
    "cap.release()\n",
    "cv2.destroyAllWindows()"
   ]
  },
  {
   "cell_type": "code",
   "execution_count": null,
   "id": "6da1fadb-b749-4cba-aece-6b8aa818a3a9",
   "metadata": {},
   "outputs": [],
   "source": []
  }
 ],
 "metadata": {
  "kernelspec": {
   "display_name": "Python 3 (ipykernel)",
   "language": "python",
   "name": "python3"
  },
  "language_info": {
   "codemirror_mode": {
    "name": "ipython",
    "version": 3
   },
   "file_extension": ".py",
   "mimetype": "text/x-python",
   "name": "python",
   "nbconvert_exporter": "python",
   "pygments_lexer": "ipython3",
   "version": "3.9.12"
  }
 },
 "nbformat": 4,
 "nbformat_minor": 5
}
