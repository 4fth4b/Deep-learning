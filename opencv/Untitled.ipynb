{
 "cells": [
  {
   "cell_type": "code",
   "execution_count": 1,
   "id": "bdcb3e5b-c5f9-4979-ad0e-99d972126972",
   "metadata": {},
   "outputs": [],
   "source": [
    "dict={'cat':0,'dog':1}"
   ]
  },
  {
   "cell_type": "code",
   "execution_count": 7,
   "id": "9b854143-9df9-49ea-9080-0835c181fa68",
   "metadata": {},
   "outputs": [
    {
     "data": {
      "text/plain": [
       "dict_items([('cat', 0), ('dog', 1)])"
      ]
     },
     "execution_count": 7,
     "metadata": {},
     "output_type": "execute_result"
    }
   ],
   "source": [
    "dict.items()"
   ]
  },
  {
   "cell_type": "code",
   "execution_count": 9,
   "id": "62fc58c2-492e-4107-a9d6-3b563fcdba7d",
   "metadata": {},
   "outputs": [],
   "source": [
    "pred=1"
   ]
  },
  {
   "cell_type": "code",
   "execution_count": 10,
   "id": "6c4dd4d4-00fc-4425-b413-cc1f1c82d51a",
   "metadata": {},
   "outputs": [
    {
     "name": "stdout",
     "output_type": "stream",
     "text": [
      "dog\n"
     ]
    }
   ],
   "source": [
    "for i,v in dict.items():\n",
    "    if pred==v:\n",
    "        print(i) "
   ]
  },
  {
   "cell_type": "code",
   "execution_count": null,
   "id": "9fd88ecc-07d6-47fe-98a8-f78202347d86",
   "metadata": {},
   "outputs": [],
   "source": []
  }
 ],
 "metadata": {
  "kernelspec": {
   "display_name": "Python 3 (ipykernel)",
   "language": "python",
   "name": "python3"
  },
  "language_info": {
   "codemirror_mode": {
    "name": "ipython",
    "version": 3
   },
   "file_extension": ".py",
   "mimetype": "text/x-python",
   "name": "python",
   "nbconvert_exporter": "python",
   "pygments_lexer": "ipython3",
   "version": "3.9.12"
  }
 },
 "nbformat": 4,
 "nbformat_minor": 5
}
